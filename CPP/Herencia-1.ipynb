{
 "cells": [
  {
   "cell_type": "markdown",
   "metadata": {},
   "source": [
    "Clases:\n",
    "Ejercicio 1) Crear una clase madre llamada Punto, con constructor para inicializar y tomar valores desde el teclado. La clase  deberá tener métodos para mostrar por pantalla la información del objeto. Crear una clase Circunferencia hija con acceso público a la clase Punto. La clase Circunferencia representa una Circunferencia mediante un punto (su centro y cuyo radio se ingresa como parámetro a través de su constructor. "
   ]
  },
  {
   "cell_type": "markdown",
   "metadata": {},
   "source": [
    "Resulucion: \n",
    "Crear una clase madre llamada Punto, con constructor para inicializar y tomar valores desde el teclado. La clase  deberá tener métodos para mostrar por pantalla la información del objeto."
   ]
  },
  {
   "cell_type": "code",
   "execution_count": 1,
   "metadata": {},
   "outputs": [],
   "source": [
    "#include \"iostream\"\n",
    "using namespace std;\n",
    "//Definicion de clase Punto\n",
    "class Punto {\n",
    "    float x; //atributo x\n",
    "    float y; //atributo y\n",
    "public:\n",
    "    //Metodos set y get de los atributos:\n",
    "    int getX() const { return x; } //metodo get del atributo x\n",
    "    void setX(int a){if(a >=0) x = a; else cout << \"Error: x no puede tomar valores negativos\\n\";} //metodo set del atributo x\n",
    "    int getY() const { return y; } //metodo get del atributo y\n",
    "    void setY(int a){if(a >=0) y = a; else cout << \"Error: x no puede tomar valores negativos\\n\";} //metodo set del atributo y\n",
    "    \n",
    "    \n",
    "    //Constructores:\n",
    "    Punto(){std::cout << \"Ingrese coordenada X: \";  std::cin >> x; std:cout << \"Ingrese coordenada Y: \";  std::cin >> y; } //constructor por defecto pedido en la consigna\n",
    "    \n",
    "    Punto(float a, float b) { this->x = a; this->y = b; cout << \"Constructor ordinario\\n\";} //constructor ordinario\n",
    "    Punto(const Punto &p) { x = p.getX(); y = p.getY();cout << \"Constructor de copia\\n\";} //constructor de copia (permite la operacion de copia de objetos con el signo =)\n",
    "    \n",
    "    //metodos para mostrar en pantalla la informacion\n",
    "    void mostrarPunto(void) { std::cout << \"Punto: (\" << this->getX() << \", \" << this->getY() << \")\" <<endl;}\n",
    "\n",
    "};"
   ]
  },
  {
   "cell_type": "markdown",
   "metadata": {},
   "source": [
    "Prueba de la clase Punto: "
   ]
  },
  {
   "cell_type": "code",
   "execution_count": 2,
   "metadata": {},
   "outputs": [
    {
     "name": "stdout",
     "output_type": "stream",
     "text": [
      "ingrese coordenada X: "
     ]
    },
    {
     "name": "stdin",
     "output_type": "stream",
     "text": [
      " 5\n"
     ]
    },
    {
     "name": "stdout",
     "output_type": "stream",
     "text": [
      "ingrese coordenada Y: "
     ]
    },
    {
     "name": "stdin",
     "output_type": "stream",
     "text": [
      " 5\n"
     ]
    },
    {
     "name": "stdout",
     "output_type": "stream",
     "text": [
      "Punto: (5, 5)\n"
     ]
    }
   ],
   "source": [
    "Punto P;\n",
    "P.mostrarPunto();"
   ]
  },
  {
   "cell_type": "markdown",
   "metadata": {},
   "source": [
    "Si ahora quisiera crear un punto constante, por ejemplo un punto que represente la posicion fija de un objeto en el plano:"
   ]
  },
  {
   "cell_type": "code",
   "execution_count": null,
   "metadata": {},
   "outputs": [],
   "source": [
    "const Punto P1 = Punto(5.2,4.1);"
   ]
  },
  {
   "cell_type": "code",
   "execution_count": null,
   "metadata": {},
   "outputs": [],
   "source": [
    "std::cout << \"Punto: \";\n",
    "P1.mostrarPunto();"
   ]
  },
  {
   "cell_type": "markdown",
   "metadata": {},
   "source": [
    "debo definir como constante las funciones que accedan a los datos del objeto\n",
    "void mostrarPunto(void) const { std::cout << \"Punto: (\" << this->getX() << \", \" << this->getY() << \")\" <<endl;}"
   ]
  },
  {
   "cell_type": "markdown",
   "metadata": {},
   "source": [
    "Segunda parte: \n",
    "Crear una clase Circunferencia hija con acceso público a la clase Punto. La clase Circunferencia representa una Circunferencia mediante un punto (su centro y cuyo radio se ingresa como parámetro a través de su constructor. \n",
    "                                                                                                                                                "
   ]
  },
  {
   "cell_type": "code",
   "execution_count": 3,
   "metadata": {},
   "outputs": [],
   "source": [
    "class Circunferencia : public Punto {\n",
    "    private:\n",
    "        float Radio;\n",
    "    public:\n",
    "     //Metodos set y get de los atributos:\n",
    "    float getRadio(void) const {return Radio;}\n",
    "    void setRadio(float r) {Radio = r;}\n",
    "    \n",
    "    //Constructores:\n",
    "        Circunferencia(){std::cout << \"ingrese radio: \";  std::cin >> Radio; }   //Constructor por defecto pedido en la consigna\n",
    "        Circunferencia(float x, float y, float r) : Punto(x,y) { Radio = r;}  //constructor ordinario que pasa parametros al constructor de la clase Punto\n",
    "        Circunferencia(const Circunferencia &c) : Punto(c){ Radio = c.getRadio();}\n",
    "    //Metodo para mostrar circunferencia:\n",
    "    void mostrarCircunferencia(void)const { std::cout << \"Circunferencia: {Centro: (\"<< this->getX() << \", \" << this->getY() << \"), Radio: \" << this->getRadio() <<\"}\" << endl;}\n",
    "}"
   ]
  },
  {
   "cell_type": "markdown",
   "metadata": {},
   "source": [
    "Prueba de la clase heredada:"
   ]
  },
  {
   "cell_type": "code",
   "execution_count": 5,
   "metadata": {},
   "outputs": [
    {
     "name": "stderr",
     "output_type": "stream",
     "text": [
      "\u001b[1minput_line_12:2:17: \u001b[0m\u001b[0;1;31merror: \u001b[0m\u001b[1mredefinition of 'c'\u001b[0m\n",
      " Circunferencia c;\n",
      "\u001b[0;1;32m                ^\n",
      "\u001b[0m\u001b[1minput_line_11:2:17: \u001b[0m\u001b[0;1;30mnote: \u001b[0mprevious definition is here\u001b[0m\n",
      " Circunferencia c;\n",
      "\u001b[0;1;32m                ^\n",
      "\u001b[0m"
     ]
    },
    {
     "ename": "Interpreter Error",
     "evalue": "",
     "output_type": "error",
     "traceback": [
      "Interpreter Error: "
     ]
    }
   ],
   "source": [
    "Circunferencia c;\n",
    "c.mostrarCircunferencia();"
   ]
  },
  {
   "cell_type": "markdown",
   "metadata": {},
   "source": [
    "Prueba del constructor de copia:"
   ]
  },
  {
   "cell_type": "code",
   "execution_count": 6,
   "metadata": {},
   "outputs": [
    {
     "name": "stdout",
     "output_type": "stream",
     "text": [
      "Constructor ordinario\n",
      "Circunferencia: {Centro: (1, 2), Radio: 5}\n",
      "Constructor de copia\n",
      "Circunferencia: {Centro: (1, 2), Radio: 5}\n"
     ]
    }
   ],
   "source": [
    "Circunferencia c1(1,2,5);\n",
    "c1.mostrarCircunferencia();\n",
    "Circunferencia c2 = c1;\n",
    "c2.mostrarCircunferencia();"
   ]
  },
  {
   "cell_type": "markdown",
   "metadata": {},
   "source": [
    "¿Por qué funciona el acceso a los atributos de Punto desde Circunferencia si los primeros son privados? ¿Es necesario utilizar protected?\n",
    "Probar si es posible declarar un objeto constante de Circunferencia.\n",
    "Ejercicio: escribir el programa anterior en un archivo .cpp completo (definicion de clases y funcion main), compilarlo con gcc y ejecutarlo en la terminal de linux "
   ]
  }
 ],
 "metadata": {
  "kernelspec": {
   "display_name": "C++17",
   "language": "C++17",
   "name": "xcpp17"
  },
  "language_info": {
   "codemirror_mode": "text/x-c++src",
   "file_extension": ".cpp",
   "mimetype": "text/x-c++src",
   "name": "c++",
   "version": "-std=c++17"
  }
 },
 "nbformat": 4,
 "nbformat_minor": 4
}
