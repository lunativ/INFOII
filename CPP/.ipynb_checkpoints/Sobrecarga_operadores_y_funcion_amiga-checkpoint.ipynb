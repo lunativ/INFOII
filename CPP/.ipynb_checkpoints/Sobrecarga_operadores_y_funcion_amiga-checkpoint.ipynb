{
 "cells": [
  {
   "cell_type": "markdown",
   "metadata": {},
   "source": [
    "# Sobrecarga de operadores y Funciones amigas\n",
    "\n",
    "\n"
   ]
  },
  {
   "cell_type": "code",
   "execution_count": 1,
   "metadata": {},
   "outputs": [
    {
     "name": "stderr",
     "output_type": "stream",
     "text": [
      "\u001b[1minput_line_8:14:19: \u001b[0m\u001b[0;1;31merror: \u001b[0m\u001b[1moverloaded 'operator<<' must be a binary operator (has 3 parameters)\u001b[0m\n",
      "    std::ostream& operator<<(std::ostream& os_, const Complex& comp_){return os_ << '(' << comp_.GetR() << ',' <...\n",
      "\u001b[0;1;32m                  ^\n",
      "\u001b[0m"
     ]
    },
    {
     "ename": "Interpreter Error",
     "evalue": "",
     "output_type": "error",
     "traceback": [
      "Interpreter Error: "
     ]
    }
   ],
   "source": [
    "#include <iostream>\n",
    "\n",
    "using namespace std;\n",
    "class Complex\n",
    "{\n",
    "public:\n",
    "    Complex(const double r=0, const double i=0) {_r = r; _i = i; }\n",
    "    Complex(const Complex &c){this->_r = c._r; this->_i = c._i;}\n",
    "\n",
    "\n",
    "    double GetR()const{return _r;}\n",
    "    double GetI()const{return _i;}\n",
    "\n",
    "    void SetR(const double r){_r = r;}\n",
    "    void SetI(const double i){_i = i;}\n",
    "    \n",
    "    Complex operator+(const Complex &b){return Complex(this->_r + b._r,this->_i + b._i);}\n",
    "    std::ostream& operator<<(std::ostream& os_){return os_ << '(' << this->GetR() << ',' << this->GetI() << \"i)\";}\n",
    "private:\n",
    "    double _r;\n",
    "    double _i;\n",
    "};\n",
    "\n",
    "\n"
   ]
  },
  {
   "cell_type": "code",
   "execution_count": null,
   "metadata": {},
   "outputs": [],
   "source": []
  },
  {
   "cell_type": "code",
   "execution_count": null,
   "metadata": {},
   "outputs": [],
   "source": []
  },
  {
   "cell_type": "code",
   "execution_count": null,
   "metadata": {},
   "outputs": [],
   "source": []
  },
  {
   "cell_type": "code",
   "execution_count": null,
   "metadata": {},
   "outputs": [],
   "source": [
    "Complex c1(1,2),c2(-1,-5);\n",
    "Complex c3 = c1+c2;\n"
   ]
  },
  {
   "cell_type": "code",
   "execution_count": null,
   "metadata": {},
   "outputs": [],
   "source": [
    "cout << c3.GetR() << c3.GetI();"
   ]
  },
  {
   "cell_type": "code",
   "execution_count": null,
   "metadata": {},
   "outputs": [],
   "source": [
    "cout << c3;"
   ]
  }
 ],
 "metadata": {
  "kernelspec": {
   "display_name": "C++11",
   "language": "C++11",
   "name": "xcpp11"
  },
  "language_info": {
   "codemirror_mode": "text/x-c++src",
   "file_extension": ".cpp",
   "mimetype": "text/x-c++src",
   "name": "c++",
   "version": "-std=c++11"
  }
 },
 "nbformat": 4,
 "nbformat_minor": 4
}
