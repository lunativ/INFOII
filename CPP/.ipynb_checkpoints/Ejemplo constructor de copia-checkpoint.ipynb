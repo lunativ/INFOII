{
 "cells": [
  {
   "cell_type": "markdown",
   "metadata": {},
   "source": [
    "Ejemplo de clase en C++ con constructor ordinario y de copia:\n",
    "Definicion de clase Punto"
   ]
  },
  {
   "cell_type": "code",
   "execution_count": 1,
   "metadata": {
    "scrolled": true
   },
   "outputs": [],
   "source": [
    "#include \"iostream\"\n",
    "using namespace std;\n",
    "//Definicion de clase Punto\n",
    "class Punto {\n",
    "    int x; //atributo x\n",
    "public:\n",
    "    //Metodos set y get del atributo:\n",
    "    int getX() const { return x; } //metodo get del atributo x\n",
    "    void setX(int a){if(a >=0) x = a; else cout << \"Error: x no puede tomar valores negativos\\n\";} //metodo set del atributo x\n",
    "    //Constructores:\n",
    "    Punto(int x) { this->x = x; cout << \"Constructor ordinario\\n\";} //constructor ordinario\n",
    "    Punto(const Punto &p) { x = p.getX();cout << \"Constructor de copia\\n\";} //constructor de copia (permite la operacion de copia de objetos con el signo =)\n",
    "\n",
    "};"
   ]
  },
  {
   "cell_type": "markdown",
   "metadata": {},
   "source": [
    "creo un objeto p1"
   ]
  },
  {
   "cell_type": "code",
   "execution_count": 2,
   "metadata": {},
   "outputs": [
    {
     "name": "stdout",
     "output_type": "stream",
     "text": [
      "Constructor ordinario\n"
     ]
    }
   ],
   "source": [
    "Punto p1(10);"
   ]
  },
  {
   "cell_type": "markdown",
   "metadata": {},
   "source": [
    "Es posible crear un nuevo objeto a partir de otro mediante el signo = utilizando el constructor de copia"
   ]
  },
  {
   "cell_type": "code",
   "execution_count": 3,
   "metadata": {},
   "outputs": [
    {
     "name": "stdout",
     "output_type": "stream",
     "text": [
      "Constructor de copia\n"
     ]
    }
   ],
   "source": [
    "Punto p2 = p1; // se crea el objeto p2 utilizando el constructor de copia"
   ]
  },
  {
   "cell_type": "code",
   "execution_count": 4,
   "metadata": {},
   "outputs": [
    {
     "name": "stdout",
     "output_type": "stream",
     "text": [
      "10\n",
      "10\n"
     ]
    },
    {
     "data": {
      "text/plain": [
       "@0x7f1a37624b60"
      ]
     },
     "execution_count": 4,
     "metadata": {},
     "output_type": "execute_result"
    }
   ],
   "source": [
    "std::cout << p1.getX()<<endl; //accedo al atributo x a traves de su metodo get\n",
    "std::cout << p2.getX()<<endl; //accedo al atributo x a traves de su metodo get"
   ]
  },
  {
   "cell_type": "code",
   "execution_count": 5,
   "metadata": {},
   "outputs": [
    {
     "name": "stdout",
     "output_type": "stream",
     "text": [
      "20"
     ]
    }
   ],
   "source": [
    "p2.setX(20);   //modifico el contenido del atributo x mediante su metodo set\n",
    "std::cout << p2.getX();"
   ]
  },
  {
   "cell_type": "code",
   "execution_count": 6,
   "metadata": {},
   "outputs": [
    {
     "name": "stdout",
     "output_type": "stream",
     "text": [
      "Error: x no puede tomar valores negativos\n"
     ]
    }
   ],
   "source": [
    "p2.setX(-5); //el metodo set permite controlar la asignacion de valores a los atributos"
   ]
  },
  {
   "cell_type": "markdown",
   "metadata": {},
   "source": [
    "La clase Punto definida no posee constructor por defecto, por lo que la siguiente linea da un error. \n",
    "Al haber definido un contructor ordinario y de copia, el compilador no crea un consructor por defecto automaticamente"
   ]
  },
  {
   "cell_type": "code",
   "execution_count": 7,
   "metadata": {},
   "outputs": [
    {
     "name": "stderr",
     "output_type": "stream",
     "text": [
      "\u001b[1minput_line_17:2:8: \u001b[0m\u001b[0;1;31merror: \u001b[0m\u001b[1mno matching constructor for initialization of 'Punto'\u001b[0m\n",
      " Punto p3;\n",
      "\u001b[0;1;32m       ^\n",
      "\u001b[0m\u001b[1minput_line_8:11:5: \u001b[0m\u001b[0;1;30mnote: \u001b[0mcandidate constructor not viable: requires single argument 'x', but no arguments were provided\u001b[0m\n",
      "    Punto(int x) { this->x = x; cout << \"Constructor ordinario\\n\";} //constructor ordinario\n",
      "\u001b[0;1;32m    ^\n",
      "\u001b[0m\u001b[1minput_line_8:12:5: \u001b[0m\u001b[0;1;30mnote: \u001b[0mcandidate constructor not viable: requires single argument 'p', but no arguments were provided\u001b[0m\n",
      "    Punto(const Punto &p) { x = p.getX();cout << \"Constructor de copia\\n\";} //constructor de copia (permite la o...\n",
      "\u001b[0;1;32m    ^\n",
      "\u001b[0m"
     ]
    },
    {
     "ename": "Interpreter Error",
     "evalue": "",
     "output_type": "error",
     "traceback": [
      "Interpreter Error: "
     ]
    }
   ],
   "source": [
    "Punto p3;\n",
    "std::cout << p3.getX();"
   ]
  },
  {
   "cell_type": "markdown",
   "metadata": {},
   "source": [
    "Por lo tanto es necesario incluir ademas un constructor por defecto. esto se puede hacer de dos formas:\n",
    "\n",
    "1- declarando un nuevo constructor por defecto (es decir sin parametros): Punto(){x = 0;} por ejemplo\n",
    "\n",
    "2- modificando el constructor ordinario de la siguiente manera para que pueda funcionar cuando no se reciban parametros: Punto(int x $\\textbf{= 0}$)"
   ]
  },
  {
   "cell_type": "code",
   "execution_count": 8,
   "metadata": {},
   "outputs": [],
   "source": [
    "#include \"iostream\"\n",
    "using namespace std;\n",
    "//Definicion de clase Punto\n",
    "class Punto1 {\n",
    "    int x; //atributo x\n",
    "public:\n",
    "    //Metodos set y get del atributo:\n",
    "    int getX() const { return x; } //metodo get del atributo x\n",
    "    void setX(int a){if(a >=0) x = a; else cout << \"Error: x no puede tomar valores negativos\\n\";} //metodo set del atributo x\n",
    "    //Constructores:\n",
    "    Punto1(int x= 0) { this->x = x; cout << \"Constructor ordinario\\n\";} //constructor ordinario\n",
    "    Punto1(const Punto1 &p) { x = p.getX();cout << \"Constructor de copia\\n\";} //constructor de copia (permite la operacion de copia de objetos con el signo =)\n",
    "\n",
    "};"
   ]
  },
  {
   "cell_type": "code",
   "execution_count": 9,
   "metadata": {},
   "outputs": [
    {
     "name": "stdout",
     "output_type": "stream",
     "text": [
      "Constructor ordinario\n",
      "0"
     ]
    }
   ],
   "source": [
    "Punto1 p3;\n",
    "std::cout << p3.getX();"
   ]
  },
  {
   "cell_type": "code",
   "execution_count": null,
   "metadata": {},
   "outputs": [],
   "source": []
  }
 ],
 "metadata": {
  "kernelspec": {
   "display_name": "C++11",
   "language": "C++11",
   "name": "xcpp11"
  },
  "language_info": {
   "codemirror_mode": "text/x-c++src",
   "file_extension": ".cpp",
   "mimetype": "text/x-c++src",
   "name": "c++",
   "version": "-std=c++11"
  }
 },
 "nbformat": 4,
 "nbformat_minor": 4
}
