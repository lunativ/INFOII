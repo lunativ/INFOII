{
 "cells": [
  {
   "cell_type": "markdown",
   "metadata": {},
   "source": [
    "# Sobrecarga de operadores y Funciones amigas\n",
    "\n",
    "\n"
   ]
  },
  {
   "cell_type": "code",
   "execution_count": 2,
   "metadata": {},
   "outputs": [
    {
     "name": "stderr",
     "output_type": "stream",
     "text": [
      "\u001b[1minput_line_10:14:67: \u001b[0m\u001b[0;1;31merror: \u001b[0m\u001b[1muse of overloaded operator '<<' is ambiguous (with operand types 'basic_ostream<char, std::char_traits<char> >' and\n",
      "      'double')\u001b[0m\n",
      "    std::ostream& operator<<(std::ostream& os_){return os_ << '(' << this->GetR() << ',' << this->GetI() << \"i)\";}\n",
      "\u001b[0;1;32m                                                       ~~~~~~~~~~ ^  ~~~~~~~~~~~~\n",
      "\u001b[0m\u001b[1m/home/valentin/.conda/envs/cling/bin/../lib/gcc/x86_64-conda_cos6-linux-gnu/7.3.0/../../../../x86_64-conda_cos6-linux-gnu/include/c++/7.3.0/ostream:166:7: \u001b[0m\u001b[0;1;30mnote: \u001b[0mcandidate function\u001b[0m\n",
      "      operator<<(long __n)\n",
      "\u001b[0;1;32m      ^\n",
      "\u001b[0m\u001b[1m/home/valentin/.conda/envs/cling/bin/../lib/gcc/x86_64-conda_cos6-linux-gnu/7.3.0/../../../../x86_64-conda_cos6-linux-gnu/include/c++/7.3.0/ostream:170:7: \u001b[0m\u001b[0;1;30mnote: \u001b[0mcandidate function\u001b[0m\n",
      "      operator<<(unsigned long __n)\n",
      "\u001b[0;1;32m      ^\n",
      "\u001b[0m\u001b[1m/home/valentin/.conda/envs/cling/bin/../lib/gcc/x86_64-conda_cos6-linux-gnu/7.3.0/../../../../x86_64-conda_cos6-linux-gnu/include/c++/7.3.0/ostream:174:7: \u001b[0m\u001b[0;1;30mnote: \u001b[0mcandidate function\u001b[0m\n",
      "      operator<<(bool __n)\n",
      "\u001b[0;1;32m      ^\n",
      "\u001b[0m\u001b[1m/home/valentin/.conda/envs/cling/bin/../lib/gcc/x86_64-conda_cos6-linux-gnu/7.3.0/../../../../x86_64-conda_cos6-linux-gnu/include/c++/7.3.0/ostream:178:7: \u001b[0m\u001b[0;1;30mnote: \u001b[0mcandidate function\u001b[0m\n",
      "      operator<<(short __n);\n",
      "\u001b[0;1;32m      ^\n",
      "\u001b[0m\u001b[1m/home/valentin/.conda/envs/cling/bin/../lib/gcc/x86_64-conda_cos6-linux-gnu/7.3.0/../../../../x86_64-conda_cos6-linux-gnu/include/c++/7.3.0/ostream:181:7: \u001b[0m\u001b[0;1;30mnote: \u001b[0mcandidate function\u001b[0m\n",
      "      operator<<(unsigned short __n)\n",
      "\u001b[0;1;32m      ^\n",
      "\u001b[0m\u001b[1m/home/valentin/.conda/envs/cling/bin/../lib/gcc/x86_64-conda_cos6-linux-gnu/7.3.0/../../../../x86_64-conda_cos6-linux-gnu/include/c++/7.3.0/ostream:189:7: \u001b[0m\u001b[0;1;30mnote: \u001b[0mcandidate function\u001b[0m\n",
      "      operator<<(int __n);\n",
      "\u001b[0;1;32m      ^\n",
      "\u001b[0m\u001b[1m/home/valentin/.conda/envs/cling/bin/../lib/gcc/x86_64-conda_cos6-linux-gnu/7.3.0/../../../../x86_64-conda_cos6-linux-gnu/include/c++/7.3.0/ostream:192:7: \u001b[0m\u001b[0;1;30mnote: \u001b[0mcandidate function\u001b[0m\n",
      "      operator<<(unsigned int __n)\n",
      "\u001b[0;1;32m      ^\n",
      "\u001b[0m\u001b[1m/home/valentin/.conda/envs/cling/bin/../lib/gcc/x86_64-conda_cos6-linux-gnu/7.3.0/../../../../x86_64-conda_cos6-linux-gnu/include/c++/7.3.0/ostream:201:7: \u001b[0m\u001b[0;1;30mnote: \u001b[0mcandidate function\u001b[0m\n",
      "      operator<<(long long __n)\n",
      "\u001b[0;1;32m      ^\n",
      "\u001b[0m\u001b[1m/home/valentin/.conda/envs/cling/bin/../lib/gcc/x86_64-conda_cos6-linux-gnu/7.3.0/../../../../x86_64-conda_cos6-linux-gnu/include/c++/7.3.0/ostream:205:7: \u001b[0m\u001b[0;1;30mnote: \u001b[0mcandidate function\u001b[0m\n",
      "      operator<<(unsigned long long __n)\n",
      "\u001b[0;1;32m      ^\n",
      "\u001b[0m\u001b[1m/home/valentin/.conda/envs/cling/bin/../lib/gcc/x86_64-conda_cos6-linux-gnu/7.3.0/../../../../x86_64-conda_cos6-linux-gnu/include/c++/7.3.0/ostream:224:7: \u001b[0m\u001b[0;1;30mnote: \u001b[0mcandidate function\u001b[0m\n",
      "      operator<<(float __f)\n",
      "\u001b[0;1;32m      ^\n",
      "\u001b[0m\u001b[1m/home/valentin/.conda/envs/cling/bin/../lib/gcc/x86_64-conda_cos6-linux-gnu/7.3.0/../../../../x86_64-conda_cos6-linux-gnu/include/c++/7.3.0/ostream:232:7: \u001b[0m\u001b[0;1;30mnote: \u001b[0mcandidate function\u001b[0m\n",
      "      operator<<(long double __f)\n",
      "\u001b[0;1;32m      ^\n",
      "\u001b[0m\u001b[1m/home/valentin/.conda/envs/cling/bin/../lib/gcc/x86_64-conda_cos6-linux-gnu/7.3.0/../../../../x86_64-conda_cos6-linux-gnu/include/c++/7.3.0/ostream:508:5: \u001b[0m\u001b[0;1;30mnote: \u001b[0mcandidate function [with _Traits = std::char_traits<char>]\u001b[0m\n",
      "    operator<<(basic_ostream<char, _Traits>& __out, char __c)\n",
      "\u001b[0;1;32m    ^\n",
      "\u001b[0m\u001b[1m/home/valentin/.conda/envs/cling/bin/../lib/gcc/x86_64-conda_cos6-linux-gnu/7.3.0/../../../../x86_64-conda_cos6-linux-gnu/include/c++/7.3.0/ostream:502:5: \u001b[0m\u001b[0;1;30mnote: \u001b[0mcandidate function [with _CharT = char, _Traits = std::char_traits<char>]\u001b[0m\n",
      "    operator<<(basic_ostream<_CharT, _Traits>& __out, char __c)\n",
      "\u001b[0;1;32m    ^\n",
      "\u001b[0m\u001b[1m/home/valentin/.conda/envs/cling/bin/../lib/gcc/x86_64-conda_cos6-linux-gnu/7.3.0/../../../../x86_64-conda_cos6-linux-gnu/include/c++/7.3.0/ostream:514:5: \u001b[0m\u001b[0;1;30mnote: \u001b[0mcandidate function [with _Traits = std::char_traits<char>]\u001b[0m\n",
      "    operator<<(basic_ostream<char, _Traits>& __out, signed char __c)\n",
      "\u001b[0;1;32m    ^\n",
      "\u001b[0m\u001b[1m/home/valentin/.conda/envs/cling/bin/../lib/gcc/x86_64-conda_cos6-linux-gnu/7.3.0/../../../../x86_64-conda_cos6-linux-gnu/include/c++/7.3.0/ostream:519:5: \u001b[0m\u001b[0;1;30mnote: \u001b[0mcandidate function [with _Traits = std::char_traits<char>]\u001b[0m\n",
      "    operator<<(basic_ostream<char, _Traits>& __out, unsigned char __c)\n",
      "\u001b[0;1;32m    ^\n",
      "\u001b[0m"
     ]
    },
    {
     "ename": "Interpreter Error",
     "evalue": "",
     "output_type": "error",
     "traceback": [
      "Interpreter Error: "
     ]
    }
   ],
   "source": [
    "#include <iostream>\n",
    "\n",
    "using namespace std;\n",
    "class Complex\n",
    "{\n",
    "public:\n",
    "    Complex(const double r=0, const double i=0) {_r = r; _i = i; }\n",
    "    Complex(const Complex &c){this->_r = c._r; this->_i = c._i;}\n",
    "\n",
    "\n",
    "    double GetR()const{return _r;}\n",
    "    double GetI()const{return _i;}\n",
    "\n",
    "    void SetR(const double r){_r = r;}\n",
    "    void SetI(const double i){_i = i;}\n",
    "    \n",
    "    Complex operator+(const Complex &b){return Complex(this->_r + b._r,this->_i + b._i);}\n",
    "    std::ostream& operator<<(std::ostream& os_, const Complex& comp_)){return os_ << '(' << comp_.GetR() << ',' << comp_.GetI() << \"i)\";}\n",
    "private:\n",
    "    double _r;\n",
    "    double _i;\n",
    "};\n",
    "\n",
    "\n"
   ]
  },
  {
   "cell_type": "code",
   "execution_count": null,
   "metadata": {},
   "outputs": [],
   "source": []
  },
  {
   "cell_type": "code",
   "execution_count": null,
   "metadata": {},
   "outputs": [],
   "source": []
  },
  {
   "cell_type": "code",
   "execution_count": null,
   "metadata": {},
   "outputs": [],
   "source": []
  },
  {
   "cell_type": "code",
   "execution_count": null,
   "metadata": {},
   "outputs": [],
   "source": [
    "Complex c1(1,2),c2(-1,-5);\n",
    "Complex c3 = c1+c2;\n"
   ]
  },
  {
   "cell_type": "code",
   "execution_count": null,
   "metadata": {},
   "outputs": [],
   "source": [
    "cout << c3.GetR() << c3.GetI();"
   ]
  },
  {
   "cell_type": "code",
   "execution_count": null,
   "metadata": {},
   "outputs": [],
   "source": [
    "cout << c3;"
   ]
  }
 ],
 "metadata": {
  "kernelspec": {
   "display_name": "C++11",
   "language": "C++11",
   "name": "xcpp11"
  },
  "language_info": {
   "codemirror_mode": "text/x-c++src",
   "file_extension": ".cpp",
   "mimetype": "text/x-c++src",
   "name": "c++",
   "version": "-std=c++11"
  }
 },
 "nbformat": 4,
 "nbformat_minor": 4
}
