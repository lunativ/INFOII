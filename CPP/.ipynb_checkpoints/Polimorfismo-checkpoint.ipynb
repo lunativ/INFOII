{
 "cells": [
  {
   "cell_type": "markdown",
   "metadata": {},
   "source": [
    "Herencia y polimorfismo:\n",
    "\n",
    "Ejemplo basado en: http://arco.inf-cr.uclm.es/~david.villa/pensar_en_C++/vol1/ch15s04.html"
   ]
  },
  {
   "cell_type": "code",
   "execution_count": 1,
   "metadata": {},
   "outputs": [],
   "source": [
    "#include <iostream>\n",
    "using namespace std;                              //permite la utilizacion de cout y cin de manera directa sin std::cout o std::cin\n",
    "enum note { middleC, Csharp, Cflat }; // Etc.      //enumeracion con notas musicales\n",
    "\n",
    "class Instrument {                              //Clase base\n",
    "public:\n",
    "  virtual void play(note) const {            //Funcion virtual no pura ni nula\n",
    "    cout << \"Instrument::play\" << endl;\n",
    "  }\n",
    "};\n",
    "\n",
    "// Wind objects are Instruments            \n",
    "// because they have the same interface:\n",
    "class Wind : public Instrument {            //clase derivada instrumento de viento\n",
    "public:\n",
    "  // Override interface function:\n",
    "  void play(note) const {\n",
    "    cout << \"Wind::play\" << endl;\n",
    "  }\n",
    "};\n"
   ]
  },
  {
   "cell_type": "markdown",
   "metadata": {},
   "source": [
    "Ahora se define una funcion global que recibe un objeto de tipo Instrument o de cualquier clase derivada de Instrument"
   ]
  },
  {
   "cell_type": "code",
   "execution_count": 2,
   "metadata": {},
   "outputs": [],
   "source": [
    "\n",
    "void tune(Instrument& i) {                  \n",
    "  // ...\n",
    "  i.play(middleC);\n",
    "}"
   ]
  },
  {
   "cell_type": "markdown",
   "metadata": {},
   "source": [
    "Prueba de la funcion global para un objeto Wind:"
   ]
  },
  {
   "cell_type": "code",
   "execution_count": 3,
   "metadata": {},
   "outputs": [
    {
     "name": "stdout",
     "output_type": "stream",
     "text": [
      "Instrument::play\n"
     ]
    }
   ],
   "source": [
    "Instrument i;\n",
    "tune(i); // objeto de clase base"
   ]
  },
  {
   "cell_type": "markdown",
   "metadata": {},
   "source": [
    "Prueba de la funcion global para un objeto Wind:"
   ]
  },
  {
   "cell_type": "code",
   "execution_count": 4,
   "metadata": {},
   "outputs": [
    {
     "name": "stdout",
     "output_type": "stream",
     "text": [
      "Wind::play\n"
     ]
    }
   ],
   "source": [
    "Wind flute;\n",
    "tune(flute); // Upcasting"
   ]
  },
  {
   "cell_type": "markdown",
   "metadata": {},
   "source": [
    "Esta ultima operacion envia a la funcion tune un objeto de la clase derivada y en tiempo real el programa ejecuta el metodo play de Wind en lugar de Instrment. Esta operacion se llama $\\textbf{upcasting}$"
   ]
  },
  {
   "cell_type": "code",
   "execution_count": null,
   "metadata": {},
   "outputs": [],
   "source": [
    "Otro ejemplo de polimorfismo y ligadura dinamica"
   ]
  },
  {
   "cell_type": "code",
   "execution_count": 6,
   "metadata": {},
   "outputs": [
    {
     "name": "stderr",
     "output_type": "stream",
     "text": [
      "\u001b[1minput_line_15:3:7: \u001b[0m\u001b[0;1;31merror: \u001b[0m\u001b[1mredefinition of 'Pet'\u001b[0m\n",
      "class Pet {\n",
      "\u001b[0;1;32m      ^\n",
      "\u001b[0m\u001b[1minput_line_13:3:7: \u001b[0m\u001b[0;1;30mnote: \u001b[0mprevious definition is here\u001b[0m\n",
      "class Pet {\n",
      "\u001b[0;1;32m      ^\n",
      "\u001b[0m"
     ]
    },
    {
     "ename": "Interpreter Error",
     "evalue": "",
     "output_type": "error",
     "traceback": [
      "Interpreter Error: "
     ]
    }
   ],
   "source": [
    "#include <iostream>\n",
    "#include <string>\n",
    "using namespace std;\n",
    "\n",
    "class Pet {\n",
    "public:\n",
    "  virtual string speak() const { return \"\"; }\n",
    "};\n",
    "\n",
    "class Dog : public Pet {\n",
    "public:\n",
    "  string speak() const { return \"Bark!\"; }\n",
    "};"
   ]
  },
  {
   "cell_type": "code",
   "execution_count": 7,
   "metadata": {},
   "outputs": [
    {
     "name": "stdout",
     "output_type": "stream",
     "text": [
      "p1->speak() = Bark!\n",
      "p2.speak() = Bark!\n",
      "p3.speak() = \n"
     ]
    }
   ],
   "source": [
    "using namespace std;  \n",
    "Dog ralph;\n",
    "Pet* p1 = &ralph;\n",
    "Pet& p2 = ralph;\n",
    "Pet p3;\n",
    "// Late binding for both:\n",
    "cout << \"p1->speak() = \" << p1->speak() <<endl;\n",
    "cout << \"p2.speak() = \" << p2.speak() << endl;\n",
    "// Early binding (probably):\n",
    "cout << \"p3.speak() = \" << p3.speak() << endl;"
   ]
  },
  {
   "cell_type": "markdown",
   "metadata": {},
   "source": [
    "Observar que al utilizar objetos mediante punteros es posible asignar a los mismos distintos tipos de objetos lo que puede generar comportamientos incorrectos si no estan codificados adecuadamente los metodos. "
   ]
  }
 ],
 "metadata": {
  "kernelspec": {
   "display_name": "C++17",
   "language": "C++17",
   "name": "xcpp17"
  },
  "language_info": {
   "codemirror_mode": "text/x-c++src",
   "file_extension": ".cpp",
   "mimetype": "text/x-c++src",
   "name": "c++",
   "version": "-std=c++17"
  }
 },
 "nbformat": 4,
 "nbformat_minor": 4
}
